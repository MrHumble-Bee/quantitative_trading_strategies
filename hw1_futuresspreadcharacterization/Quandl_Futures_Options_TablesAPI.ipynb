{
 "cells": [
  {
   "cell_type": "markdown",
   "id": "abstract-bradley",
   "metadata": {},
   "source": [
    "# Quandl Futures Options Using Tables API\n",
    "https://data.nasdaq.com/databases/OWF#documentation"
   ]
  },
  {
   "cell_type": "markdown",
   "id": "4257ad1a",
   "metadata": {},
   "source": [
    "As of 2023, the time series interface is deprecated for OptionWorks data from NASDAQ Quandl\n",
    "\n",
    "Here we see how to obtain the futures and option skew information via the favored tables API"
   ]
  },
  {
   "cell_type": "code",
   "execution_count": 2,
   "id": "measured-remark",
   "metadata": {
    "ExecuteTime": {
     "end_time": "2024-01-11T05:15:25.619013Z",
     "start_time": "2024-01-11T05:15:24.244041Z"
    }
   },
   "outputs": [],
   "source": [
    "import os\n",
    "import datetime\n",
    "import quandl\n",
    "\n",
    "import matplotlib.pyplot as plt\n",
    "import pandas as pd\n",
    "import numpy as np\n",
    "import scipy as sp\n",
    "import plotnine as p9\n",
    "import quandl\n",
    "\n",
    "API_KEY = r'etzm7dS3xxWfVEJaz46j'"
   ]
  },
  {
   "cell_type": "code",
   "execution_count": 9,
   "id": "d69db539",
   "metadata": {},
   "outputs": [
    {
     "data": {
      "text/plain": [
       "('/Users/alexhuang/Documents/Academic/FINM 33150',\n",
       " 'HW1_FuturesSpread_DataCharacterization')"
      ]
     },
     "execution_count": 9,
     "metadata": {},
     "output_type": "execute_result"
    }
   ],
   "source": [
    "os.path.split(os.getcwd())"
   ]
  },
  {
   "cell_type": "markdown",
   "id": "96dcdab0",
   "metadata": {},
   "source": [
    "Especially for a tables API, it is important to cache data queries.  Here we have functions that will only grab new data once per day, otherwise returning data from the file cache"
   ]
  },
  {
   "cell_type": "code",
   "execution_count": 10,
   "id": "virtual-manitoba",
   "metadata": {
    "ExecuteTime": {
     "end_time": "2024-01-11T05:15:25.627458Z",
     "start_time": "2024-01-11T05:15:25.620682Z"
    }
   },
   "outputs": [],
   "source": [
    "def grab_quandl_table(\n",
    "    table_path,\n",
    "    avoid_download=False,\n",
    "    replace_existing=False,\n",
    "    date_override=None,\n",
    "    allow_old_file=False,\n",
    "    **kwargs,\n",
    "):\n",
    "    root_data_dir = os.path.join(os.environ[\"HOME\"], \"quandl_data_table_downloads\")\n",
    "    data_symlink = os.path.join(root_data_dir, f\"{table_path}_latest.zip\")\n",
    "    if avoid_download and os.path.exists(data_symlink):\n",
    "        print(f\"Skipping any possible download of {table_path}\")\n",
    "        return data_symlink\n",
    "    \n",
    "    table_dir = os.path.dirname(data_symlink)\n",
    "    if not os.path.isdir(table_dir):\n",
    "        print(f'Creating new data dir {table_dir}')\n",
    "        os.makedirs(table_dir)\n",
    "\n",
    "    if date_override is None:\n",
    "        my_date = datetime.datetime.now().strftime(\"%Y%m%d\")\n",
    "    else:\n",
    "        my_date = date_override\n",
    "    data_file = os.path.join(root_data_dir, f\"{table_path}_{my_date}.zip\")\n",
    "\n",
    "    if os.path.exists(data_file):\n",
    "        file_size = os.stat(data_file).st_size\n",
    "        if replace_existing or not file_size > 0:\n",
    "            print(f\"Removing old file {data_file} size {file_size}\")\n",
    "        else:\n",
    "            print(\n",
    "                f\"Data file {data_file} size {file_size} exists already, no need to download\"\n",
    "            )\n",
    "            return data_file\n",
    "\n",
    "    dl = quandl.export_table(\n",
    "        table_path, filename=data_file, api_key=API_KEY, **kwargs\n",
    "    )\n",
    "    file_size = os.stat(data_file).st_size\n",
    "    if os.path.exists(data_file) and file_size > 0:\n",
    "        print(f\"Download finished: {file_size} bytes\")\n",
    "        if not date_override:\n",
    "            if os.path.exists(data_symlink):\n",
    "                print(f\"Removing old symlink\")\n",
    "                os.unlink(data_symlink)\n",
    "            print(f\"Creating symlink: {data_file} -> {data_symlink}\")\n",
    "            os.symlink(\n",
    "                data_file, data_symlink,\n",
    "            )\n",
    "    else:\n",
    "        print(f\"Data file {data_file} failed download\")\n",
    "        return\n",
    "    return data_symlink if (date_override is None or allow_old_file) else \"NoFileAvailable\"\n",
    "\n",
    "\n",
    "def fetch_quandl_table(table_path, avoid_download=True, **kwargs):\n",
    "    return pd.read_csv(\n",
    "        grab_quandl_table(table_path, avoid_download=avoid_download, **kwargs)\n",
    "    )\n",
    "\n",
    "\n"
   ]
  },
  {
   "cell_type": "markdown",
   "id": "ee20952a",
   "metadata": {},
   "source": [
    "The IVM table has the implied volatility model values, including futures prices, at-the-money volatility et cetera"
   ]
  },
  {
   "cell_type": "code",
   "execution_count": 11,
   "id": "possible-custom",
   "metadata": {
    "ExecuteTime": {
     "end_time": "2024-01-11T05:15:37.637058Z",
     "start_time": "2024-01-11T05:15:25.630306Z"
    }
   },
   "outputs": [
    {
     "name": "stdout",
     "output_type": "stream",
     "text": [
      "Creating new data dir /Users/alexhuang/quandl_data_table_downloads/AR\n",
      "Download finished: 290238259 bytes\n",
      "Creating symlink: /Users/alexhuang/quandl_data_table_downloads/AR/IVM_20240113.zip -> /Users/alexhuang/quandl_data_table_downloads/AR/IVM_latest.zip\n"
     ]
    },
    {
     "data": {
      "text/html": [
       "<div>\n",
       "<style scoped>\n",
       "    .dataframe tbody tr th:only-of-type {\n",
       "        vertical-align: middle;\n",
       "    }\n",
       "\n",
       "    .dataframe tbody tr th {\n",
       "        vertical-align: top;\n",
       "    }\n",
       "\n",
       "    .dataframe thead th {\n",
       "        text-align: right;\n",
       "    }\n",
       "</style>\n",
       "<table border=\"1\" class=\"dataframe\">\n",
       "  <thead>\n",
       "    <tr style=\"text-align: right;\">\n",
       "      <th></th>\n",
       "      <th>exchange_code</th>\n",
       "      <th>futures_code</th>\n",
       "      <th>option_code</th>\n",
       "      <th>expiration</th>\n",
       "      <th>date</th>\n",
       "      <th>futures</th>\n",
       "      <th>atm</th>\n",
       "      <th>rr25</th>\n",
       "      <th>rr10</th>\n",
       "      <th>fly25</th>\n",
       "      <th>...</th>\n",
       "      <th>beta1</th>\n",
       "      <th>beta2</th>\n",
       "      <th>beta3</th>\n",
       "      <th>beta4</th>\n",
       "      <th>beta5</th>\n",
       "      <th>beta6</th>\n",
       "      <th>min_money</th>\n",
       "      <th>max_money</th>\n",
       "      <th>days_expiration</th>\n",
       "      <th>days_termination</th>\n",
       "    </tr>\n",
       "  </thead>\n",
       "  <tbody>\n",
       "    <tr>\n",
       "      <th>0</th>\n",
       "      <td>CBT</td>\n",
       "      <td>BO</td>\n",
       "      <td>BO</td>\n",
       "      <td>V2024</td>\n",
       "      <td>2023-07-27</td>\n",
       "      <td>58.040000</td>\n",
       "      <td>0.303074</td>\n",
       "      <td>-0.004934</td>\n",
       "      <td>NaN</td>\n",
       "      <td>-0.005185</td>\n",
       "      <td>...</td>\n",
       "      <td>-0.013514</td>\n",
       "      <td>-0.210955</td>\n",
       "      <td>0.274140</td>\n",
       "      <td>1.697856</td>\n",
       "      <td>-1.023394</td>\n",
       "      <td>-4.179139</td>\n",
       "      <td>-0.549587</td>\n",
       "      <td>0.444217</td>\n",
       "      <td>421.24</td>\n",
       "      <td>445.0</td>\n",
       "    </tr>\n",
       "    <tr>\n",
       "      <th>1</th>\n",
       "      <td>ICE</td>\n",
       "      <td>KC</td>\n",
       "      <td>KC</td>\n",
       "      <td>H2026</td>\n",
       "      <td>2023-10-02</td>\n",
       "      <td>158.550000</td>\n",
       "      <td>0.288991</td>\n",
       "      <td>0.015911</td>\n",
       "      <td>NaN</td>\n",
       "      <td>0.000022</td>\n",
       "      <td>...</td>\n",
       "      <td>0.025836</td>\n",
       "      <td>-0.177754</td>\n",
       "      <td>0.101765</td>\n",
       "      <td>1.435220</td>\n",
       "      <td>-0.445698</td>\n",
       "      <td>-2.374568</td>\n",
       "      <td>-0.684043</td>\n",
       "      <td>0.532352</td>\n",
       "      <td>863.15</td>\n",
       "      <td>899.0</td>\n",
       "    </tr>\n",
       "    <tr>\n",
       "      <th>2</th>\n",
       "      <td>NYM</td>\n",
       "      <td>NG</td>\n",
       "      <td>NG</td>\n",
       "      <td>F2029</td>\n",
       "      <td>2023-07-27</td>\n",
       "      <td>4.703000</td>\n",
       "      <td>0.334631</td>\n",
       "      <td>NaN</td>\n",
       "      <td>NaN</td>\n",
       "      <td>NaN</td>\n",
       "      <td>...</td>\n",
       "      <td>0.159299</td>\n",
       "      <td>0.133878</td>\n",
       "      <td>-1.147995</td>\n",
       "      <td>-1.006677</td>\n",
       "      <td>1.590494</td>\n",
       "      <td>1.477700</td>\n",
       "      <td>-0.737270</td>\n",
       "      <td>0.754384</td>\n",
       "      <td>1979.00</td>\n",
       "      <td>1980.0</td>\n",
       "    </tr>\n",
       "    <tr>\n",
       "      <th>3</th>\n",
       "      <td>NYX</td>\n",
       "      <td>C</td>\n",
       "      <td>C</td>\n",
       "      <td>U2025</td>\n",
       "      <td>2023-10-02</td>\n",
       "      <td>2666.000000</td>\n",
       "      <td>0.231555</td>\n",
       "      <td>NaN</td>\n",
       "      <td>NaN</td>\n",
       "      <td>NaN</td>\n",
       "      <td>...</td>\n",
       "      <td>0.120610</td>\n",
       "      <td>-2.579713</td>\n",
       "      <td>1.159924</td>\n",
       "      <td>594.907525</td>\n",
       "      <td>-91.601577</td>\n",
       "      <td>-52350.067091</td>\n",
       "      <td>-0.074339</td>\n",
       "      <td>0.075473</td>\n",
       "      <td>696.80</td>\n",
       "      <td>714.0</td>\n",
       "    </tr>\n",
       "    <tr>\n",
       "      <th>4</th>\n",
       "      <td>CBT</td>\n",
       "      <td>BO</td>\n",
       "      <td>BO</td>\n",
       "      <td>1M</td>\n",
       "      <td>2023-07-27</td>\n",
       "      <td>67.346897</td>\n",
       "      <td>0.352890</td>\n",
       "      <td>-0.002929</td>\n",
       "      <td>-0.005976</td>\n",
       "      <td>0.002417</td>\n",
       "      <td>...</td>\n",
       "      <td>-0.024721</td>\n",
       "      <td>0.420288</td>\n",
       "      <td>-0.644045</td>\n",
       "      <td>23.556375</td>\n",
       "      <td>14.352899</td>\n",
       "      <td>-214.004951</td>\n",
       "      <td>-0.222364</td>\n",
       "      <td>0.238453</td>\n",
       "      <td>31.00</td>\n",
       "      <td>31.0</td>\n",
       "    </tr>\n",
       "  </tbody>\n",
       "</table>\n",
       "<p>5 rows × 21 columns</p>\n",
       "</div>"
      ],
      "text/plain": [
       "  exchange_code futures_code option_code expiration        date      futures  \\\n",
       "0           CBT           BO          BO      V2024  2023-07-27    58.040000   \n",
       "1           ICE           KC          KC      H2026  2023-10-02   158.550000   \n",
       "2           NYM           NG          NG      F2029  2023-07-27     4.703000   \n",
       "3           NYX            C           C      U2025  2023-10-02  2666.000000   \n",
       "4           CBT           BO          BO         1M  2023-07-27    67.346897   \n",
       "\n",
       "        atm      rr25      rr10     fly25  ...     beta1     beta2     beta3  \\\n",
       "0  0.303074 -0.004934       NaN -0.005185  ... -0.013514 -0.210955  0.274140   \n",
       "1  0.288991  0.015911       NaN  0.000022  ...  0.025836 -0.177754  0.101765   \n",
       "2  0.334631       NaN       NaN       NaN  ...  0.159299  0.133878 -1.147995   \n",
       "3  0.231555       NaN       NaN       NaN  ...  0.120610 -2.579713  1.159924   \n",
       "4  0.352890 -0.002929 -0.005976  0.002417  ... -0.024721  0.420288 -0.644045   \n",
       "\n",
       "        beta4      beta5         beta6  min_money  max_money  days_expiration  \\\n",
       "0    1.697856  -1.023394     -4.179139  -0.549587   0.444217           421.24   \n",
       "1    1.435220  -0.445698     -2.374568  -0.684043   0.532352           863.15   \n",
       "2   -1.006677   1.590494      1.477700  -0.737270   0.754384          1979.00   \n",
       "3  594.907525 -91.601577 -52350.067091  -0.074339   0.075473           696.80   \n",
       "4   23.556375  14.352899   -214.004951  -0.222364   0.238453            31.00   \n",
       "\n",
       "   days_termination  \n",
       "0             445.0  \n",
       "1             899.0  \n",
       "2            1980.0  \n",
       "3             714.0  \n",
       "4              31.0  \n",
       "\n",
       "[5 rows x 21 columns]"
      ]
     },
     "execution_count": 11,
     "metadata": {},
     "output_type": "execute_result"
    }
   ],
   "source": [
    "t_ivm = fetch_quandl_table('AR/IVM', avoid_download=False)\n",
    "t_ivm.head()"
   ]
  },
  {
   "cell_type": "code",
   "execution_count": 12,
   "id": "9081b95a",
   "metadata": {
    "ExecuteTime": {
     "end_time": "2024-01-11T05:15:37.641522Z",
     "start_time": "2024-01-11T05:15:37.638392Z"
    }
   },
   "outputs": [
    {
     "data": {
      "text/plain": [
       "Index(['exchange_code', 'futures_code', 'option_code', 'expiration', 'date',\n",
       "       'futures', 'atm', 'rr25', 'rr10', 'fly25', 'fly10', 'beta1', 'beta2',\n",
       "       'beta3', 'beta4', 'beta5', 'beta6', 'min_money', 'max_money',\n",
       "       'days_expiration', 'days_termination'],\n",
       "      dtype='object')"
      ]
     },
     "execution_count": 12,
     "metadata": {},
     "output_type": "execute_result"
    }
   ],
   "source": [
    "t_ivm.columns"
   ]
  },
  {
   "cell_type": "markdown",
   "id": "01e6a228",
   "metadata": {},
   "source": [
    "The IVS table gives is entore volatility surfaces"
   ]
  },
  {
   "cell_type": "code",
   "execution_count": 13,
   "id": "protective-startup",
   "metadata": {
    "ExecuteTime": {
     "end_time": "2024-01-11T05:16:09.672747Z",
     "start_time": "2024-01-11T05:15:37.643089Z"
    }
   },
   "outputs": [
    {
     "name": "stdout",
     "output_type": "stream",
     "text": [
      "Download finished: 698685586 bytes\n",
      "Creating symlink: /Users/alexhuang/quandl_data_table_downloads/AR/IVS_20240113.zip -> /Users/alexhuang/quandl_data_table_downloads/AR/IVS_latest.zip\n",
      "(5235793, 49)\n"
     ]
    },
    {
     "data": {
      "text/html": [
       "<div>\n",
       "<style scoped>\n",
       "    .dataframe tbody tr th:only-of-type {\n",
       "        vertical-align: middle;\n",
       "    }\n",
       "\n",
       "    .dataframe tbody tr th {\n",
       "        vertical-align: top;\n",
       "    }\n",
       "\n",
       "    .dataframe thead th {\n",
       "        text-align: right;\n",
       "    }\n",
       "</style>\n",
       "<table border=\"1\" class=\"dataframe\">\n",
       "  <thead>\n",
       "    <tr style=\"text-align: right;\">\n",
       "      <th></th>\n",
       "      <th>exchange_code</th>\n",
       "      <th>futures_code</th>\n",
       "      <th>option_code</th>\n",
       "      <th>expiration</th>\n",
       "      <th>date</th>\n",
       "      <th>dnsvol</th>\n",
       "      <th>p01dvol</th>\n",
       "      <th>p05dvol</th>\n",
       "    </tr>\n",
       "  </thead>\n",
       "  <tbody>\n",
       "    <tr>\n",
       "      <th>0</th>\n",
       "      <td>ICE</td>\n",
       "      <td>M</td>\n",
       "      <td>M</td>\n",
       "      <td>1W</td>\n",
       "      <td>2023-07-27</td>\n",
       "      <td>1.439305</td>\n",
       "      <td>1.445888</td>\n",
       "      <td>1.456649</td>\n",
       "    </tr>\n",
       "    <tr>\n",
       "      <th>1</th>\n",
       "      <td>NYX</td>\n",
       "      <td>W</td>\n",
       "      <td>W</td>\n",
       "      <td>6M</td>\n",
       "      <td>2023-07-27</td>\n",
       "      <td>0.176926</td>\n",
       "      <td>0.171437</td>\n",
       "      <td>0.173553</td>\n",
       "    </tr>\n",
       "    <tr>\n",
       "      <th>2</th>\n",
       "      <td>NYX</td>\n",
       "      <td>W</td>\n",
       "      <td>W</td>\n",
       "      <td>9M</td>\n",
       "      <td>2023-07-27</td>\n",
       "      <td>0.161198</td>\n",
       "      <td>0.155353</td>\n",
       "      <td>0.156587</td>\n",
       "    </tr>\n",
       "    <tr>\n",
       "      <th>5235790</th>\n",
       "      <td>NYX</td>\n",
       "      <td>W</td>\n",
       "      <td>W</td>\n",
       "      <td>Z2025</td>\n",
       "      <td>2023-07-24</td>\n",
       "      <td>0.170749</td>\n",
       "      <td>0.159110</td>\n",
       "      <td>0.159625</td>\n",
       "    </tr>\n",
       "    <tr>\n",
       "      <th>5235791</th>\n",
       "      <td>NYX</td>\n",
       "      <td>W</td>\n",
       "      <td>W</td>\n",
       "      <td>Z2025</td>\n",
       "      <td>2023-07-25</td>\n",
       "      <td>0.170686</td>\n",
       "      <td>0.159749</td>\n",
       "      <td>0.159583</td>\n",
       "    </tr>\n",
       "    <tr>\n",
       "      <th>5235792</th>\n",
       "      <td>NYX</td>\n",
       "      <td>W</td>\n",
       "      <td>W</td>\n",
       "      <td>Z2025</td>\n",
       "      <td>2023-07-26</td>\n",
       "      <td>0.170663</td>\n",
       "      <td>0.159194</td>\n",
       "      <td>0.159991</td>\n",
       "    </tr>\n",
       "  </tbody>\n",
       "</table>\n",
       "</div>"
      ],
      "text/plain": [
       "        exchange_code futures_code option_code expiration        date  \\\n",
       "0                 ICE            M           M         1W  2023-07-27   \n",
       "1                 NYX            W           W         6M  2023-07-27   \n",
       "2                 NYX            W           W         9M  2023-07-27   \n",
       "5235790           NYX            W           W      Z2025  2023-07-24   \n",
       "5235791           NYX            W           W      Z2025  2023-07-25   \n",
       "5235792           NYX            W           W      Z2025  2023-07-26   \n",
       "\n",
       "           dnsvol   p01dvol   p05dvol  \n",
       "0        1.439305  1.445888  1.456649  \n",
       "1        0.176926  0.171437  0.173553  \n",
       "2        0.161198  0.155353  0.156587  \n",
       "5235790  0.170749  0.159110  0.159625  \n",
       "5235791  0.170686  0.159749  0.159583  \n",
       "5235792  0.170663  0.159194  0.159991  "
      ]
     },
     "execution_count": 13,
     "metadata": {},
     "output_type": "execute_result"
    }
   ],
   "source": [
    "t_ivs = fetch_quandl_table('AR/IVS', avoid_download=False)\n",
    "print(t_ivs.shape)\n",
    "t_ivs.iloc[[0,1,2,-3,-2,-1],:8]"
   ]
  },
  {
   "cell_type": "code",
   "execution_count": 14,
   "id": "public-termination",
   "metadata": {
    "ExecuteTime": {
     "end_time": "2024-01-11T05:16:09.677247Z",
     "start_time": "2024-01-11T05:16:09.674218Z"
    }
   },
   "outputs": [
    {
     "data": {
      "text/plain": [
       "Index(['exchange_code', 'futures_code', 'option_code', 'expiration', 'date',\n",
       "       'dnsvol', 'p01dvol', 'p05dvol', 'p10dvol', 'p15dvol', 'p20dvol',\n",
       "       'p25dvol', 'p30dvol', 'p35dvol', 'p40dvol', 'p45dvol', 'p50dvol',\n",
       "       'p55dvol', 'p60dvol', 'p65dvol', 'p70dvol', 'p75dvol', 'p80dvol',\n",
       "       'p85dvol', 'p90dvol', 'p95dvol', 'p99dvol', 'c01dvol', 'c05dvol',\n",
       "       'c10dvol', 'c15dvol', 'c20dvol', 'c25dvol', 'c30dvol', 'c35dvol',\n",
       "       'c40dvol', 'c45dvol', 'c50dvol', 'c55dvol', 'c60dvol', 'c65dvol',\n",
       "       'c70dvol', 'c75dvol', 'c80dvol', 'c85dvol', 'c90dvol', 'c95dvol',\n",
       "       'c99dvol', 'days_expiration'],\n",
       "      dtype='object')"
      ]
     },
     "execution_count": 14,
     "metadata": {},
     "output_type": "execute_result"
    }
   ],
   "source": [
    "t_ivs.columns"
   ]
  },
  {
   "cell_type": "markdown",
   "id": "fd76741a",
   "metadata": {},
   "source": [
    "Exchanges include CME, ICE and others"
   ]
  },
  {
   "cell_type": "code",
   "execution_count": 15,
   "id": "12b0f158",
   "metadata": {
    "ExecuteTime": {
     "end_time": "2024-01-11T05:16:10.130446Z",
     "start_time": "2024-01-11T05:16:09.678788Z"
    }
   },
   "outputs": [
    {
     "data": {
      "text/plain": [
       "exchange_code\n",
       "CBT     886779\n",
       "CME    1178238\n",
       "CMX     310979\n",
       "ICE    1370480\n",
       "NYM     795067\n",
       "NYX     361602\n",
       "Name: futures_code, dtype: int64"
      ]
     },
     "execution_count": 15,
     "metadata": {},
     "output_type": "execute_result"
    }
   ],
   "source": [
    "t_ivm.groupby('exchange_code')['futures_code'].count()"
   ]
  },
  {
   "cell_type": "markdown",
   "id": "07c1271e",
   "metadata": {},
   "source": [
    "The time series of Dec 2024 E-Mini contract futures option skew model values"
   ]
  },
  {
   "cell_type": "code",
   "execution_count": 16,
   "id": "680ee364",
   "metadata": {
    "ExecuteTime": {
     "end_time": "2024-01-11T05:16:11.185576Z",
     "start_time": "2024-01-11T05:16:10.132360Z"
    }
   },
   "outputs": [
    {
     "data": {
      "text/html": [
       "<div>\n",
       "<style scoped>\n",
       "    .dataframe tbody tr th:only-of-type {\n",
       "        vertical-align: middle;\n",
       "    }\n",
       "\n",
       "    .dataframe tbody tr th {\n",
       "        vertical-align: top;\n",
       "    }\n",
       "\n",
       "    .dataframe thead th {\n",
       "        text-align: right;\n",
       "    }\n",
       "</style>\n",
       "<table border=\"1\" class=\"dataframe\">\n",
       "  <thead>\n",
       "    <tr style=\"text-align: right;\">\n",
       "      <th></th>\n",
       "      <th>398</th>\n",
       "      <th>1448</th>\n",
       "      <th>1916527</th>\n",
       "    </tr>\n",
       "  </thead>\n",
       "  <tbody>\n",
       "    <tr>\n",
       "      <th>exchange_code</th>\n",
       "      <td>CME</td>\n",
       "      <td>CME</td>\n",
       "      <td>CME</td>\n",
       "    </tr>\n",
       "    <tr>\n",
       "      <th>futures_code</th>\n",
       "      <td>ES</td>\n",
       "      <td>ES</td>\n",
       "      <td>ES</td>\n",
       "    </tr>\n",
       "    <tr>\n",
       "      <th>option_code</th>\n",
       "      <td>ES</td>\n",
       "      <td>ES</td>\n",
       "      <td>ES</td>\n",
       "    </tr>\n",
       "    <tr>\n",
       "      <th>expiration</th>\n",
       "      <td>Z2024</td>\n",
       "      <td>Z2024</td>\n",
       "      <td>Z2024</td>\n",
       "    </tr>\n",
       "    <tr>\n",
       "      <th>date</th>\n",
       "      <td>2023-07-27</td>\n",
       "      <td>2023-10-02</td>\n",
       "      <td>2023-07-26</td>\n",
       "    </tr>\n",
       "    <tr>\n",
       "      <th>futures</th>\n",
       "      <td>4808.0</td>\n",
       "      <td>4517.0</td>\n",
       "      <td>4838.0</td>\n",
       "    </tr>\n",
       "    <tr>\n",
       "      <th>atm</th>\n",
       "      <td>0.160513</td>\n",
       "      <td>0.176705</td>\n",
       "      <td>0.157342</td>\n",
       "    </tr>\n",
       "    <tr>\n",
       "      <th>rr25</th>\n",
       "      <td>-0.062816</td>\n",
       "      <td>-0.065095</td>\n",
       "      <td>-0.062253</td>\n",
       "    </tr>\n",
       "    <tr>\n",
       "      <th>rr10</th>\n",
       "      <td>-0.127251</td>\n",
       "      <td>-0.127364</td>\n",
       "      <td>-0.126376</td>\n",
       "    </tr>\n",
       "    <tr>\n",
       "      <th>fly25</th>\n",
       "      <td>0.002873</td>\n",
       "      <td>-0.000105</td>\n",
       "      <td>0.00308</td>\n",
       "    </tr>\n",
       "    <tr>\n",
       "      <th>fly10</th>\n",
       "      <td>0.023154</td>\n",
       "      <td>0.015207</td>\n",
       "      <td>0.023445</td>\n",
       "    </tr>\n",
       "    <tr>\n",
       "      <th>beta1</th>\n",
       "      <td>-0.296241</td>\n",
       "      <td>-0.296227</td>\n",
       "      <td>-0.298431</td>\n",
       "    </tr>\n",
       "    <tr>\n",
       "      <th>beta2</th>\n",
       "      <td>0.143004</td>\n",
       "      <td>-0.10848</td>\n",
       "      <td>0.155315</td>\n",
       "    </tr>\n",
       "    <tr>\n",
       "      <th>beta3</th>\n",
       "      <td>1.245046</td>\n",
       "      <td>0.786841</td>\n",
       "      <td>1.300799</td>\n",
       "    </tr>\n",
       "    <tr>\n",
       "      <th>beta4</th>\n",
       "      <td>1.633997</td>\n",
       "      <td>3.497398</td>\n",
       "      <td>1.685478</td>\n",
       "    </tr>\n",
       "    <tr>\n",
       "      <th>beta5</th>\n",
       "      <td>-0.993983</td>\n",
       "      <td>4.694081</td>\n",
       "      <td>-0.979266</td>\n",
       "    </tr>\n",
       "    <tr>\n",
       "      <th>beta6</th>\n",
       "      <td>-2.037744</td>\n",
       "      <td>2.038952</td>\n",
       "      <td>-2.015821</td>\n",
       "    </tr>\n",
       "    <tr>\n",
       "      <th>min_money</th>\n",
       "      <td>-0.65399</td>\n",
       "      <td>-0.632379</td>\n",
       "      <td>-0.660211</td>\n",
       "    </tr>\n",
       "    <tr>\n",
       "      <th>max_money</th>\n",
       "      <td>0.286017</td>\n",
       "      <td>0.267104</td>\n",
       "      <td>0.279797</td>\n",
       "    </tr>\n",
       "    <tr>\n",
       "      <th>days_expiration</th>\n",
       "      <td>511.72</td>\n",
       "      <td>444.72</td>\n",
       "      <td>512.72</td>\n",
       "    </tr>\n",
       "    <tr>\n",
       "      <th>days_termination</th>\n",
       "      <td>512.0</td>\n",
       "      <td>445.0</td>\n",
       "      <td>513.0</td>\n",
       "    </tr>\n",
       "  </tbody>\n",
       "</table>\n",
       "</div>"
      ],
      "text/plain": [
       "                     398         1448        1916527\n",
       "exchange_code            CME         CME         CME\n",
       "futures_code              ES          ES          ES\n",
       "option_code               ES          ES          ES\n",
       "expiration             Z2024       Z2024       Z2024\n",
       "date              2023-07-27  2023-10-02  2023-07-26\n",
       "futures               4808.0      4517.0      4838.0\n",
       "atm                 0.160513    0.176705    0.157342\n",
       "rr25               -0.062816   -0.065095   -0.062253\n",
       "rr10               -0.127251   -0.127364   -0.126376\n",
       "fly25               0.002873   -0.000105     0.00308\n",
       "fly10               0.023154    0.015207    0.023445\n",
       "beta1              -0.296241   -0.296227   -0.298431\n",
       "beta2               0.143004    -0.10848    0.155315\n",
       "beta3               1.245046    0.786841    1.300799\n",
       "beta4               1.633997    3.497398    1.685478\n",
       "beta5              -0.993983    4.694081   -0.979266\n",
       "beta6              -2.037744    2.038952   -2.015821\n",
       "min_money           -0.65399   -0.632379   -0.660211\n",
       "max_money           0.286017    0.267104    0.279797\n",
       "days_expiration       511.72      444.72      512.72\n",
       "days_termination       512.0       445.0       513.0"
      ]
     },
     "execution_count": 16,
     "metadata": {},
     "output_type": "execute_result"
    }
   ],
   "source": [
    "t_ivm.loc[(t_ivm.exchange_code=='CME') & (t_ivm.futures_code=='ES') & (t_ivm.option_code=='ES')& (t_ivm.expiration=='Z2024')].iloc[[0, 1,-1]].transpose()"
   ]
  },
  {
   "cell_type": "code",
   "execution_count": 17,
   "id": "7881d1a0",
   "metadata": {
    "ExecuteTime": {
     "end_time": "2024-01-11T05:16:11.710081Z",
     "start_time": "2024-01-11T05:16:11.188729Z"
    }
   },
   "outputs": [
    {
     "data": {
      "text/plain": [
       "0         2023-07-27\n",
       "1         2023-10-02\n",
       "2         2023-07-27\n",
       "3         2023-10-02\n",
       "4         2023-07-27\n",
       "             ...    \n",
       "4903140   2020-08-31\n",
       "4903141   2023-07-20\n",
       "4903142   2023-07-21\n",
       "4903143   2023-07-25\n",
       "4903144   2023-07-26\n",
       "Name: date, Length: 4903145, dtype: datetime64[ns]"
      ]
     },
     "execution_count": 17,
     "metadata": {},
     "output_type": "execute_result"
    }
   ],
   "source": [
    "pd.to_datetime( t_ivm.date , format='%Y-%m-%d')"
   ]
  },
  {
   "cell_type": "markdown",
   "id": "41a1207f",
   "metadata": {},
   "source": [
    "The dates come as strings, here we convert them to more useful objects"
   ]
  },
  {
   "cell_type": "code",
   "execution_count": 18,
   "id": "22f874e1",
   "metadata": {
    "ExecuteTime": {
     "end_time": "2024-01-11T05:16:12.722664Z",
     "start_time": "2024-01-11T05:16:11.723233Z"
    }
   },
   "outputs": [],
   "source": [
    "fc_fix_date = t_ivm.copy()\n",
    "fc_fix_date['Date'] = pd.to_datetime( fc_fix_date.date , format='%Y-%m-%d')"
   ]
  },
  {
   "cell_type": "code",
   "execution_count": 19,
   "id": "6b1fb30b",
   "metadata": {
    "ExecuteTime": {
     "end_time": "2024-01-11T05:16:16.827539Z",
     "start_time": "2024-01-11T05:16:12.723851Z"
    }
   },
   "outputs": [],
   "source": [
    "fut_curve_data = fc_fix_date.set_index(['exchange_code', 'futures_code','option_code','expiration', 'Date'])\n",
    "fut_curve_data.sort_index(inplace=True)"
   ]
  },
  {
   "cell_type": "code",
   "execution_count": 20,
   "id": "f6acff5e",
   "metadata": {
    "ExecuteTime": {
     "end_time": "2024-01-11T05:16:16.837140Z",
     "start_time": "2024-01-11T05:16:16.828916Z"
    }
   },
   "outputs": [
    {
     "data": {
      "text/html": [
       "<div>\n",
       "<style scoped>\n",
       "    .dataframe tbody tr th:only-of-type {\n",
       "        vertical-align: middle;\n",
       "    }\n",
       "\n",
       "    .dataframe tbody tr th {\n",
       "        vertical-align: top;\n",
       "    }\n",
       "\n",
       "    .dataframe thead th {\n",
       "        text-align: right;\n",
       "    }\n",
       "</style>\n",
       "<table border=\"1\" class=\"dataframe\">\n",
       "  <thead>\n",
       "    <tr style=\"text-align: right;\">\n",
       "      <th>Date</th>\n",
       "      <th>2013-12-23</th>\n",
       "      <th>2014-12-18</th>\n",
       "    </tr>\n",
       "  </thead>\n",
       "  <tbody>\n",
       "    <tr>\n",
       "      <th>date</th>\n",
       "      <td>2013-12-23</td>\n",
       "      <td>2014-12-18</td>\n",
       "    </tr>\n",
       "    <tr>\n",
       "      <th>futures</th>\n",
       "      <td>1802.2</td>\n",
       "      <td>2065.0</td>\n",
       "    </tr>\n",
       "    <tr>\n",
       "      <th>atm</th>\n",
       "      <td>0.155901</td>\n",
       "      <td>0.162534</td>\n",
       "    </tr>\n",
       "    <tr>\n",
       "      <th>rr25</th>\n",
       "      <td>-0.055657</td>\n",
       "      <td>-0.001957</td>\n",
       "    </tr>\n",
       "    <tr>\n",
       "      <th>rr10</th>\n",
       "      <td>-0.108066</td>\n",
       "      <td>-0.0098</td>\n",
       "    </tr>\n",
       "    <tr>\n",
       "      <th>fly25</th>\n",
       "      <td>0.002523</td>\n",
       "      <td>0.006448</td>\n",
       "    </tr>\n",
       "    <tr>\n",
       "      <th>fly10</th>\n",
       "      <td>0.016919</td>\n",
       "      <td>0.028524</td>\n",
       "    </tr>\n",
       "    <tr>\n",
       "      <th>beta1</th>\n",
       "      <td>-0.282516</td>\n",
       "      <td>-0.138761</td>\n",
       "    </tr>\n",
       "    <tr>\n",
       "      <th>beta2</th>\n",
       "      <td>0.074599</td>\n",
       "      <td>255.483612</td>\n",
       "    </tr>\n",
       "    <tr>\n",
       "      <th>beta3</th>\n",
       "      <td>0.967884</td>\n",
       "      <td>-2246.910245</td>\n",
       "    </tr>\n",
       "    <tr>\n",
       "      <th>beta4</th>\n",
       "      <td>2.532728</td>\n",
       "      <td>-148918.354138</td>\n",
       "    </tr>\n",
       "    <tr>\n",
       "      <th>beta5</th>\n",
       "      <td>2.791126</td>\n",
       "      <td>4577747.539005</td>\n",
       "    </tr>\n",
       "    <tr>\n",
       "      <th>beta6</th>\n",
       "      <td>1.161333</td>\n",
       "      <td>165758095.56348</td>\n",
       "    </tr>\n",
       "    <tr>\n",
       "      <th>min_money</th>\n",
       "      <td>-0.521349</td>\n",
       "      <td>-0.026996</td>\n",
       "    </tr>\n",
       "    <tr>\n",
       "      <th>max_money</th>\n",
       "      <td>0.221922</td>\n",
       "      <td>0.016807</td>\n",
       "    </tr>\n",
       "    <tr>\n",
       "      <th>days_expiration</th>\n",
       "      <td>360.72</td>\n",
       "      <td>0.72</td>\n",
       "    </tr>\n",
       "    <tr>\n",
       "      <th>days_termination</th>\n",
       "      <td>361.0</td>\n",
       "      <td>1.0</td>\n",
       "    </tr>\n",
       "  </tbody>\n",
       "</table>\n",
       "</div>"
      ],
      "text/plain": [
       "Date              2013-12-23       2014-12-18\n",
       "date              2013-12-23       2014-12-18\n",
       "futures               1802.2           2065.0\n",
       "atm                 0.155901         0.162534\n",
       "rr25               -0.055657        -0.001957\n",
       "rr10               -0.108066          -0.0098\n",
       "fly25               0.002523         0.006448\n",
       "fly10               0.016919         0.028524\n",
       "beta1              -0.282516        -0.138761\n",
       "beta2               0.074599       255.483612\n",
       "beta3               0.967884     -2246.910245\n",
       "beta4               2.532728   -148918.354138\n",
       "beta5               2.791126   4577747.539005\n",
       "beta6               1.161333  165758095.56348\n",
       "min_money          -0.521349        -0.026996\n",
       "max_money           0.221922         0.016807\n",
       "days_expiration       360.72             0.72\n",
       "days_termination       361.0              1.0"
      ]
     },
     "execution_count": 20,
     "metadata": {},
     "output_type": "execute_result"
    }
   ],
   "source": [
    "es_fut_curve_data = fut_curve_data.loc[('CME','ES','ES')]\n",
    "es_fut_curve_data.loc['Z2014'].iloc[[0, -1]].transpose()"
   ]
  },
  {
   "cell_type": "markdown",
   "id": "23cfa85f",
   "metadata": {},
   "source": [
    "We can now plot daily futures prices, in this case for about a decade ago"
   ]
  },
  {
   "cell_type": "code",
   "execution_count": 21,
   "id": "bcb5d7d4",
   "metadata": {
    "ExecuteTime": {
     "end_time": "2024-01-11T05:16:17.849930Z",
     "start_time": "2024-01-11T05:16:16.838785Z"
    }
   },
   "outputs": [
    {
     "data": {
      "image/png": "[encoded data removed]",
      "text/plain": [
       "<Figure size 640x480 with 1 Axes>"
      ]
     },
     "metadata": {
      "image/png": {
       "height": 480,
       "width": 640
      }
     },
     "output_type": "display_data"
    },
    {
     "data": {
      "text/plain": [
       "<Figure Size: (640 x 480)>"
      ]
     },
     "execution_count": 21,
     "metadata": {},
     "output_type": "execute_result"
    }
   ],
   "source": [
    "(\n",
    "    p9.ggplot(\n",
    "        es_fut_curve_data.loc['Z2014'].reset_index(),\n",
    "        p9.aes(x='Date', y='futures')\n",
    "    )\n",
    "    + p9.geom_point(color='green')\n",
    "    + p9.theme(axis_text_x=p9.element_text(rotation=60, hjust=1))\n",
    "    + p9.ggtitle('Dec 2014 Expiry Futures Prices')\n",
    ")"
   ]
  },
  {
   "cell_type": "markdown",
   "id": "6b2eb945",
   "metadata": {
    "ExecuteTime": {
     "end_time": "2024-01-11T05:08:14.185900Z",
     "start_time": "2024-01-11T05:08:14.183983Z"
    }
   },
   "source": [
    "### The OptionWorks Volatility Parameterization"
   ]
  },
  {
   "cell_type": "code",
   "execution_count": 22,
   "id": "c1c36b94",
   "metadata": {
    "ExecuteTime": {
     "end_time": "2024-01-11T05:16:17.855729Z",
     "start_time": "2024-01-11T05:16:17.852280Z"
    }
   },
   "outputs": [],
   "source": [
    "def vols(r):\n",
    "    moneyness = pd.Series(np.linspace(start=r.min_money, stop=r.max_money, num=100))\n",
    "    vola = r.atm + (r.beta1*moneyness + r.beta2*moneyness**2 + r.beta3*moneyness**3\n",
    "                     + r.beta4*moneyness**4 + r.beta5*moneyness**5 + r.beta6*moneyness**6)\n",
    "    vola.name=\"ImplVol\"\n",
    "    future = r.futures * np.exp(moneyness)\n",
    "    return pd.DataFrame({\"Dec 2014 Emini Future\": future, \"Moneyness\": moneyness, \"ImplVol\": vola})\n"
   ]
  },
  {
   "cell_type": "code",
   "execution_count": 23,
   "id": "297a4e3d",
   "metadata": {
    "ExecuteTime": {
     "end_time": "2024-01-11T05:16:18.141345Z",
     "start_time": "2024-01-11T05:16:17.857777Z"
    }
   },
   "outputs": [
    {
     "data": {
      "image/png": "[encoded data removed]",
      "text/plain": [
       "<Figure size 640x480 with 1 Axes>"
      ]
     },
     "metadata": {
      "image/png": {
       "height": 480,
       "width": 640
      }
     },
     "output_type": "display_data"
    },
    {
     "data": {
      "text/plain": [
       "<Figure Size: (640 x 480)>"
      ]
     },
     "execution_count": 23,
     "metadata": {},
     "output_type": "execute_result"
    }
   ],
   "source": [
    "v = vols(es_fut_curve_data.loc['Z2014'].iloc[0])\n",
    "(\n",
    "    p9.ggplot(v, p9.aes(x='Dec 2014 Emini Future', y='ImplVol'))\n",
    "    + p9.geom_line(color='orange')\n",
    "    + p9.geom_point(color='red')\n",
    "    + p9.ggtitle('ES Option Skew')\n",
    ")"
   ]
  },
  {
   "cell_type": "code",
   "execution_count": null,
   "id": "91333006",
   "metadata": {},
   "outputs": [],
   "source": []
  },
  {
   "cell_type": "code",
   "execution_count": null,
   "id": "9d98a36a",
   "metadata": {},
   "outputs": [],
   "source": []
  }
 ],
 "metadata": {
  "kernelspec": {
   "display_name": "Python 3.10.9 ('base')",
   "language": "python",
   "name": "python3"
  },
  "language_info": {
   "codemirror_mode": {
    "name": "ipython",
    "version": 3
   },
   "file_extension": ".py",
   "mimetype": "text/x-python",
   "name": "python",
   "nbconvert_exporter": "python",
   "pygments_lexer": "ipython3",
   "version": "3.10.9"
  },
  "vscode": {
   "interpreter": {
    "hash": "f80fe7232de62f189ee6f3cfe2cb9095cf13821d1450cee019802b174a868850"
   }
  }
 },
 "nbformat": 4,
 "nbformat_minor": 5
}
